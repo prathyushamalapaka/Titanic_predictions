{
 "cells": [
  {
   "cell_type": "markdown",
   "id": "separated-conviction",
   "metadata": {
    "papermill": {
     "duration": 0.036903,
     "end_time": "2021-04-05T12:52:06.102961",
     "exception": false,
     "start_time": "2021-04-05T12:52:06.066058",
     "status": "completed"
    },
    "tags": []
   },
   "source": [
    "**Importing Libraries**"
   ]
  },
  {
   "cell_type": "code",
   "execution_count": 2,
   "id": "periodic-execution",
   "metadata": {
    "execution": {
     "iopub.execute_input": "2021-04-05T12:52:06.182631Z",
     "iopub.status.busy": "2021-04-05T12:52:06.182003Z",
     "iopub.status.idle": "2021-04-05T12:52:06.185760Z",
     "shell.execute_reply": "2021-04-05T12:52:06.185198Z"
    },
    "papermill": {
     "duration": 0.045026,
     "end_time": "2021-04-05T12:52:06.185918",
     "exception": false,
     "start_time": "2021-04-05T12:52:06.140892",
     "status": "completed"
    },
    "tags": []
   },
   "outputs": [],
   "source": [
    "import pandas as pd\n",
    "import numpy as np\n",
    "import seaborn as sns\n",
    "from sklearn.model_selection import train_test_split\n",
    "from sklearn.linear_model import LogisticRegression\n",
    "from sklearn.tree import DecisionTreeClassifier\n",
    "from sklearn.ensemble import RandomForestClassifier\n",
    "from sklearn.metrics import accuracy_score,confusion_matrix,classification_report"
   ]
  },
  {
   "cell_type": "code",
   "execution_count": 3,
   "id": "based-graph",
   "metadata": {
    "execution": {
     "iopub.execute_input": "2021-04-05T12:52:06.339398Z",
     "iopub.status.busy": "2021-04-05T12:52:06.338643Z",
     "iopub.status.idle": "2021-04-05T12:52:06.396553Z",
     "shell.execute_reply": "2021-04-05T12:52:06.395832Z"
    },
    "papermill": {
     "duration": 0.099703,
     "end_time": "2021-04-05T12:52:06.396704",
     "exception": false,
     "start_time": "2021-04-05T12:52:06.297001",
     "status": "completed"
    },
    "scrolled": true,
    "tags": []
   },
   "outputs": [
    {
     "data": {
      "text/html": [
       "<div>\n",
       "<style scoped>\n",
       "    .dataframe tbody tr th:only-of-type {\n",
       "        vertical-align: middle;\n",
       "    }\n",
       "\n",
       "    .dataframe tbody tr th {\n",
       "        vertical-align: top;\n",
       "    }\n",
       "\n",
       "    .dataframe thead th {\n",
       "        text-align: right;\n",
       "    }\n",
       "</style>\n",
       "<table border=\"1\" class=\"dataframe\">\n",
       "  <thead>\n",
       "    <tr style=\"text-align: right;\">\n",
       "      <th></th>\n",
       "      <th>PassengerId</th>\n",
       "      <th>Survived</th>\n",
       "      <th>Pclass</th>\n",
       "      <th>Name</th>\n",
       "      <th>Sex</th>\n",
       "      <th>Age</th>\n",
       "      <th>SibSp</th>\n",
       "      <th>Parch</th>\n",
       "      <th>Ticket</th>\n",
       "      <th>Fare</th>\n",
       "      <th>Cabin</th>\n",
       "      <th>Embarked</th>\n",
       "    </tr>\n",
       "  </thead>\n",
       "  <tbody>\n",
       "    <tr>\n",
       "      <th>0</th>\n",
       "      <td>1</td>\n",
       "      <td>0</td>\n",
       "      <td>3</td>\n",
       "      <td>Braund, Mr. Owen Harris</td>\n",
       "      <td>male</td>\n",
       "      <td>22.0</td>\n",
       "      <td>1</td>\n",
       "      <td>0</td>\n",
       "      <td>A/5 21171</td>\n",
       "      <td>7.2500</td>\n",
       "      <td>NaN</td>\n",
       "      <td>S</td>\n",
       "    </tr>\n",
       "    <tr>\n",
       "      <th>1</th>\n",
       "      <td>2</td>\n",
       "      <td>1</td>\n",
       "      <td>1</td>\n",
       "      <td>Cumings, Mrs. John Bradley (Florence Briggs Th...</td>\n",
       "      <td>female</td>\n",
       "      <td>38.0</td>\n",
       "      <td>1</td>\n",
       "      <td>0</td>\n",
       "      <td>PC 17599</td>\n",
       "      <td>71.2833</td>\n",
       "      <td>C85</td>\n",
       "      <td>C</td>\n",
       "    </tr>\n",
       "    <tr>\n",
       "      <th>2</th>\n",
       "      <td>3</td>\n",
       "      <td>1</td>\n",
       "      <td>3</td>\n",
       "      <td>Heikkinen, Miss. Laina</td>\n",
       "      <td>female</td>\n",
       "      <td>26.0</td>\n",
       "      <td>0</td>\n",
       "      <td>0</td>\n",
       "      <td>STON/O2. 3101282</td>\n",
       "      <td>7.9250</td>\n",
       "      <td>NaN</td>\n",
       "      <td>S</td>\n",
       "    </tr>\n",
       "    <tr>\n",
       "      <th>3</th>\n",
       "      <td>4</td>\n",
       "      <td>1</td>\n",
       "      <td>1</td>\n",
       "      <td>Futrelle, Mrs. Jacques Heath (Lily May Peel)</td>\n",
       "      <td>female</td>\n",
       "      <td>35.0</td>\n",
       "      <td>1</td>\n",
       "      <td>0</td>\n",
       "      <td>113803</td>\n",
       "      <td>53.1000</td>\n",
       "      <td>C123</td>\n",
       "      <td>S</td>\n",
       "    </tr>\n",
       "    <tr>\n",
       "      <th>4</th>\n",
       "      <td>5</td>\n",
       "      <td>0</td>\n",
       "      <td>3</td>\n",
       "      <td>Allen, Mr. William Henry</td>\n",
       "      <td>male</td>\n",
       "      <td>35.0</td>\n",
       "      <td>0</td>\n",
       "      <td>0</td>\n",
       "      <td>373450</td>\n",
       "      <td>8.0500</td>\n",
       "      <td>NaN</td>\n",
       "      <td>S</td>\n",
       "    </tr>\n",
       "  </tbody>\n",
       "</table>\n",
       "</div>"
      ],
      "text/plain": [
       "   PassengerId  Survived  Pclass  \\\n",
       "0            1         0       3   \n",
       "1            2         1       1   \n",
       "2            3         1       3   \n",
       "3            4         1       1   \n",
       "4            5         0       3   \n",
       "\n",
       "                                                Name     Sex   Age  SibSp  \\\n",
       "0                            Braund, Mr. Owen Harris    male  22.0      1   \n",
       "1  Cumings, Mrs. John Bradley (Florence Briggs Th...  female  38.0      1   \n",
       "2                             Heikkinen, Miss. Laina  female  26.0      0   \n",
       "3       Futrelle, Mrs. Jacques Heath (Lily May Peel)  female  35.0      1   \n",
       "4                           Allen, Mr. William Henry    male  35.0      0   \n",
       "\n",
       "   Parch            Ticket     Fare Cabin Embarked  \n",
       "0      0         A/5 21171   7.2500   NaN        S  \n",
       "1      0          PC 17599  71.2833   C85        C  \n",
       "2      0  STON/O2. 3101282   7.9250   NaN        S  \n",
       "3      0            113803  53.1000  C123        S  \n",
       "4      0            373450   8.0500   NaN        S  "
      ]
     },
     "execution_count": 3,
     "metadata": {},
     "output_type": "execute_result"
    }
   ],
   "source": [
    "train=pd.read_csv(r\"/kaggle/input/titanic/train.csv\")\n",
    "train.head()"
   ]
  },
  {
   "cell_type": "markdown",
   "id": "64a2b7dd",
   "metadata": {},
   "source": [
    "**Data Pre-processing**"
   ]
  },
  {
   "cell_type": "code",
   "execution_count": 4,
   "id": "aerial-deviation",
   "metadata": {
    "execution": {
     "iopub.execute_input": "2021-04-05T12:52:06.483043Z",
     "iopub.status.busy": "2021-04-05T12:52:06.482352Z",
     "iopub.status.idle": "2021-04-05T12:52:06.489175Z",
     "shell.execute_reply": "2021-04-05T12:52:06.488610Z"
    },
    "papermill": {
     "duration": 0.051765,
     "end_time": "2021-04-05T12:52:06.489329",
     "exception": false,
     "start_time": "2021-04-05T12:52:06.437564",
     "status": "completed"
    },
    "tags": []
   },
   "outputs": [
    {
     "data": {
      "text/plain": [
       "0    549\n",
       "1    342\n",
       "Name: Survived, dtype: int64"
      ]
     },
     "execution_count": 4,
     "metadata": {},
     "output_type": "execute_result"
    }
   ],
   "source": [
    "train.Survived.value_counts()"
   ]
  },
  {
   "cell_type": "code",
   "execution_count": 5,
   "id": "artificial-waste",
   "metadata": {
    "execution": {
     "iopub.execute_input": "2021-04-05T12:52:06.571300Z",
     "iopub.status.busy": "2021-04-05T12:52:06.570296Z",
     "iopub.status.idle": "2021-04-05T12:52:06.575240Z",
     "shell.execute_reply": "2021-04-05T12:52:06.574647Z"
    },
    "papermill": {
     "duration": 0.048021,
     "end_time": "2021-04-05T12:52:06.575380",
     "exception": false,
     "start_time": "2021-04-05T12:52:06.527359",
     "status": "completed"
    },
    "tags": []
   },
   "outputs": [
    {
     "data": {
      "text/plain": [
       "(891, 12)"
      ]
     },
     "execution_count": 5,
     "metadata": {},
     "output_type": "execute_result"
    }
   ],
   "source": [
    "train.shape"
   ]
  },
  {
   "cell_type": "code",
   "execution_count": 6,
   "id": "durable-smith",
   "metadata": {
    "execution": {
     "iopub.execute_input": "2021-04-05T12:52:06.738780Z",
     "iopub.status.busy": "2021-04-05T12:52:06.737702Z",
     "iopub.status.idle": "2021-04-05T12:52:06.743436Z",
     "shell.execute_reply": "2021-04-05T12:52:06.742881Z"
    },
    "papermill": {
     "duration": 0.05244,
     "end_time": "2021-04-05T12:52:06.743575",
     "exception": false,
     "start_time": "2021-04-05T12:52:06.691135",
     "status": "completed"
    },
    "tags": []
   },
   "outputs": [
    {
     "data": {
      "text/plain": [
       "PassengerId      0\n",
       "Survived         0\n",
       "Pclass           0\n",
       "Name             0\n",
       "Sex              0\n",
       "Age            177\n",
       "SibSp            0\n",
       "Parch            0\n",
       "Ticket           0\n",
       "Fare             0\n",
       "Cabin          687\n",
       "Embarked         2\n",
       "dtype: int64"
      ]
     },
     "execution_count": 6,
     "metadata": {},
     "output_type": "execute_result"
    }
   ],
   "source": [
    "train.isnull().sum()"
   ]
  },
  {
   "cell_type": "markdown",
   "id": "insured-jesus",
   "metadata": {
    "papermill": {
     "duration": 0.038925,
     "end_time": "2021-04-05T12:52:06.822110",
     "exception": false,
     "start_time": "2021-04-05T12:52:06.783185",
     "status": "completed"
    },
    "tags": []
   },
   "source": [
    "Since the cabin column has more than 80% null values, it can be dropped"
   ]
  },
  {
   "cell_type": "code",
   "execution_count": 7,
   "id": "missing-motorcycle",
   "metadata": {
    "execution": {
     "iopub.execute_input": "2021-04-05T12:52:06.906775Z",
     "iopub.status.busy": "2021-04-05T12:52:06.906093Z",
     "iopub.status.idle": "2021-04-05T12:52:06.909429Z",
     "shell.execute_reply": "2021-04-05T12:52:06.908932Z"
    },
    "papermill": {
     "duration": 0.048772,
     "end_time": "2021-04-05T12:52:06.909581",
     "exception": false,
     "start_time": "2021-04-05T12:52:06.860809",
     "status": "completed"
    },
    "tags": []
   },
   "outputs": [],
   "source": [
    "train.drop(\"Cabin\",axis=1,inplace=True)"
   ]
  },
  {
   "cell_type": "code",
   "execution_count": 8,
   "id": "democratic-telephone",
   "metadata": {
    "execution": {
     "iopub.execute_input": "2021-04-05T12:52:06.995426Z",
     "iopub.status.busy": "2021-04-05T12:52:06.994534Z",
     "iopub.status.idle": "2021-04-05T12:52:06.997141Z",
     "shell.execute_reply": "2021-04-05T12:52:06.997578Z"
    },
    "papermill": {
     "duration": 0.048637,
     "end_time": "2021-04-05T12:52:06.997760",
     "exception": false,
     "start_time": "2021-04-05T12:52:06.949123",
     "status": "completed"
    },
    "tags": []
   },
   "outputs": [],
   "source": [
    "train.drop('Fare',axis=1,inplace=True)"
   ]
  },
  {
   "cell_type": "markdown",
   "id": "mechanical-reputation",
   "metadata": {
    "papermill": {
     "duration": 0.04025,
     "end_time": "2021-04-05T12:52:07.077426",
     "exception": false,
     "start_time": "2021-04-05T12:52:07.037176",
     "status": "completed"
    },
    "tags": []
   },
   "source": [
    "Since the age column dosent have a lot of null values, they can be replaced with median of the values of the column"
   ]
  },
  {
   "cell_type": "code",
   "execution_count": 9,
   "id": "beneficial-globe",
   "metadata": {
    "execution": {
     "iopub.execute_input": "2021-04-05T12:52:07.166913Z",
     "iopub.status.busy": "2021-04-05T12:52:07.166018Z",
     "iopub.status.idle": "2021-04-05T12:52:07.169744Z",
     "shell.execute_reply": "2021-04-05T12:52:07.170370Z"
    },
    "papermill": {
     "duration": 0.053321,
     "end_time": "2021-04-05T12:52:07.170557",
     "exception": false,
     "start_time": "2021-04-05T12:52:07.117236",
     "status": "completed"
    },
    "tags": []
   },
   "outputs": [],
   "source": [
    "train['Age']=train.fillna(train.Age.median())"
   ]
  },
  {
   "cell_type": "markdown",
   "id": "domestic-wisconsin",
   "metadata": {
    "papermill": {
     "duration": 0.039558,
     "end_time": "2021-04-05T12:52:07.250168",
     "exception": false,
     "start_time": "2021-04-05T12:52:07.210610",
     "status": "completed"
    },
    "tags": []
   },
   "source": [
    "**Exploratory Data Analysis**"
   ]
  },
  {
   "cell_type": "code",
   "execution_count": 10,
   "id": "million-tattoo",
   "metadata": {
    "execution": {
     "iopub.execute_input": "2021-04-05T12:52:07.333278Z",
     "iopub.status.busy": "2021-04-05T12:52:07.332544Z",
     "iopub.status.idle": "2021-04-05T12:52:07.351614Z",
     "shell.execute_reply": "2021-04-05T12:52:07.350918Z"
    },
    "papermill": {
     "duration": 0.061836,
     "end_time": "2021-04-05T12:52:07.351759",
     "exception": false,
     "start_time": "2021-04-05T12:52:07.289923",
     "status": "completed"
    },
    "tags": []
   },
   "outputs": [
    {
     "data": {
      "text/plain": [
       "Sex     Survived\n",
       "female  1           233\n",
       "        0            81\n",
       "male    0           468\n",
       "        1           109\n",
       "Name: Survived, dtype: int64"
      ]
     },
     "execution_count": 10,
     "metadata": {},
     "output_type": "execute_result"
    }
   ],
   "source": [
    "train.groupby('Sex')['Survived'].value_counts()"
   ]
  },
  {
   "cell_type": "code",
   "execution_count": 11,
   "id": "romance-enterprise",
   "metadata": {
    "execution": {
     "iopub.execute_input": "2021-04-05T12:52:07.439638Z",
     "iopub.status.busy": "2021-04-05T12:52:07.438853Z",
     "iopub.status.idle": "2021-04-05T12:52:08.715616Z",
     "shell.execute_reply": "2021-04-05T12:52:08.714911Z"
    },
    "papermill": {
     "duration": 1.321533,
     "end_time": "2021-04-05T12:52:08.715761",
     "exception": false,
     "start_time": "2021-04-05T12:52:07.394228",
     "status": "completed"
    },
    "tags": []
   },
   "outputs": [
    {
     "data": {
      "text/plain": [
       "<AxesSubplot:xlabel='Survived', ylabel='count'>"
      ]
     },
     "execution_count": 11,
     "metadata": {},
     "output_type": "execute_result"
    },
    {
     "data": {
      "image/png": "[encoded data removed]",
      "text/plain": [
       "<Figure size 432x288 with 1 Axes>"
      ]
     },
     "metadata": {
      "needs_background": "light"
     },
     "output_type": "display_data"
    }
   ],
   "source": [
    "sns.countplot(x=\"Survived\",data=train)"
   ]
  },
  {
   "cell_type": "markdown",
   "id": "respiratory-instruction",
   "metadata": {
    "papermill": {
     "duration": 0.041075,
     "end_time": "2021-04-05T12:52:08.798534",
     "exception": false,
     "start_time": "2021-04-05T12:52:08.757459",
     "status": "completed"
    },
    "tags": []
   },
   "source": [
    "Out of the 891 passengers, we can observe that more than 530 of them have lost their lives."
   ]
  },
  {
   "cell_type": "code",
   "execution_count": 12,
   "id": "governing-christian",
   "metadata": {
    "execution": {
     "iopub.execute_input": "2021-04-05T12:52:08.890192Z",
     "iopub.status.busy": "2021-04-05T12:52:08.888020Z",
     "iopub.status.idle": "2021-04-05T12:52:09.036851Z",
     "shell.execute_reply": "2021-04-05T12:52:09.036236Z"
    },
    "papermill": {
     "duration": 0.197405,
     "end_time": "2021-04-05T12:52:09.037030",
     "exception": false,
     "start_time": "2021-04-05T12:52:08.839625",
     "status": "completed"
    },
    "tags": []
   },
   "outputs": [
    {
     "data": {
      "text/plain": [
       "<AxesSubplot:xlabel='Survived', ylabel='count'>"
      ]
     },
     "execution_count": 12,
     "metadata": {},
     "output_type": "execute_result"
    },
    {
     "data": {
      "image/png": "[encoded data removed]",
      "text/plain": [
       "<Figure size 432x288 with 1 Axes>"
      ]
     },
     "metadata": {
      "needs_background": "light"
     },
     "output_type": "display_data"
    }
   ],
   "source": [
    "sns.countplot(x=\"Survived\",hue=\"Sex\",data=train)"
   ]
  },
  {
   "cell_type": "markdown",
   "id": "confused-premium",
   "metadata": {
    "papermill": {
     "duration": 0.042068,
     "end_time": "2021-04-05T12:52:09.122292",
     "exception": false,
     "start_time": "2021-04-05T12:52:09.080224",
     "status": "completed"
    },
    "tags": []
   },
   "source": [
    "Quite clearly, more number of females have survived the tragedy."
   ]
  },
  {
   "cell_type": "code",
   "execution_count": 13,
   "id": "above-filling",
   "metadata": {
    "execution": {
     "iopub.execute_input": "2021-04-05T12:52:09.217340Z",
     "iopub.status.busy": "2021-04-05T12:52:09.215445Z",
     "iopub.status.idle": "2021-04-05T12:52:09.397106Z",
     "shell.execute_reply": "2021-04-05T12:52:09.396397Z"
    },
    "papermill": {
     "duration": 0.231677,
     "end_time": "2021-04-05T12:52:09.397335",
     "exception": false,
     "start_time": "2021-04-05T12:52:09.165658",
     "status": "completed"
    },
    "tags": []
   },
   "outputs": [
    {
     "data": {
      "text/plain": [
       "<AxesSubplot:xlabel='Survived', ylabel='count'>"
      ]
     },
     "execution_count": 13,
     "metadata": {},
     "output_type": "execute_result"
    },
    {
     "data": {
      "image/png": "[encoded data removed]",
      "text/plain": [
       "<Figure size 432x288 with 1 Axes>"
      ]
     },
     "metadata": {
      "needs_background": "light"
     },
     "output_type": "display_data"
    }
   ],
   "source": [
    "sns.countplot(x=\"Survived\",hue=\"Embarked\",data=train)"
   ]
  },
  {
   "cell_type": "markdown",
   "id": "detailed-bundle",
   "metadata": {
    "papermill": {
     "duration": 0.043207,
     "end_time": "2021-04-05T12:52:09.484500",
     "exception": false,
     "start_time": "2021-04-05T12:52:09.441293",
     "status": "completed"
    },
    "tags": []
   },
   "source": [
    "We can observe that out of the 350 survivors,almost 210 survivors have Embarked in Southampton with Queensland having the least survivors."
   ]
  },
  {
   "cell_type": "code",
   "execution_count": 14,
   "id": "earlier-trailer",
   "metadata": {
    "execution": {
     "iopub.execute_input": "2021-04-05T12:52:09.576957Z",
     "iopub.status.busy": "2021-04-05T12:52:09.576092Z",
     "iopub.status.idle": "2021-04-05T12:52:09.829332Z",
     "shell.execute_reply": "2021-04-05T12:52:09.828716Z"
    },
    "papermill": {
     "duration": 0.301613,
     "end_time": "2021-04-05T12:52:09.829477",
     "exception": false,
     "start_time": "2021-04-05T12:52:09.527864",
     "status": "completed"
    },
    "tags": []
   },
   "outputs": [
    {
     "data": {
      "text/plain": [
       "<AxesSubplot:xlabel='Survived', ylabel='count'>"
      ]
     },
     "execution_count": 14,
     "metadata": {},
     "output_type": "execute_result"
    },
    {
     "data": {
      "image/png": "[encoded data removed]",
      "text/plain": [
       "<Figure size 432x288 with 1 Axes>"
      ]
     },
     "metadata": {
      "needs_background": "light"
     },
     "output_type": "display_data"
    }
   ],
   "source": [
    "sns.countplot(x=\"Survived\",hue=\"SibSp\",data=train)"
   ]
  },
  {
   "cell_type": "markdown",
   "id": "scheduled-islam",
   "metadata": {
    "papermill": {
     "duration": 0.045294,
     "end_time": "2021-04-05T12:52:09.919635",
     "exception": false,
     "start_time": "2021-04-05T12:52:09.874341",
     "status": "completed"
    },
    "tags": []
   },
   "source": [
    "**One-Hot Encoding** (for converting categorical columns into numerical)"
   ]
  },
  {
   "cell_type": "code",
   "execution_count": 15,
   "id": "undefined-friend",
   "metadata": {
    "execution": {
     "iopub.execute_input": "2021-04-05T12:52:10.014545Z",
     "iopub.status.busy": "2021-04-05T12:52:10.013919Z",
     "iopub.status.idle": "2021-04-05T12:52:10.019472Z",
     "shell.execute_reply": "2021-04-05T12:52:10.018947Z"
    },
    "papermill": {
     "duration": 0.055264,
     "end_time": "2021-04-05T12:52:10.019620",
     "exception": false,
     "start_time": "2021-04-05T12:52:09.964356",
     "status": "completed"
    },
    "tags": []
   },
   "outputs": [],
   "source": [
    "sex=pd.get_dummies(train[\"Sex\"])\n",
    "embarked=pd.get_dummies(train[\"Embarked\"])"
   ]
  },
  {
   "cell_type": "code",
   "execution_count": 16,
   "id": "regulation-being",
   "metadata": {
    "execution": {
     "iopub.execute_input": "2021-04-05T12:52:10.118654Z",
     "iopub.status.busy": "2021-04-05T12:52:10.115211Z",
     "iopub.status.idle": "2021-04-05T12:52:10.133694Z",
     "shell.execute_reply": "2021-04-05T12:52:10.133036Z"
    },
    "papermill": {
     "duration": 0.06918,
     "end_time": "2021-04-05T12:52:10.133851",
     "exception": false,
     "start_time": "2021-04-05T12:52:10.064671",
     "status": "completed"
    },
    "tags": []
   },
   "outputs": [
    {
     "data": {
      "text/html": [
       "<div>\n",
       "<style scoped>\n",
       "    .dataframe tbody tr th:only-of-type {\n",
       "        vertical-align: middle;\n",
       "    }\n",
       "\n",
       "    .dataframe tbody tr th {\n",
       "        vertical-align: top;\n",
       "    }\n",
       "\n",
       "    .dataframe thead th {\n",
       "        text-align: right;\n",
       "    }\n",
       "</style>\n",
       "<table border=\"1\" class=\"dataframe\">\n",
       "  <thead>\n",
       "    <tr style=\"text-align: right;\">\n",
       "      <th></th>\n",
       "      <th>PassengerId</th>\n",
       "      <th>Survived</th>\n",
       "      <th>Pclass</th>\n",
       "      <th>Age</th>\n",
       "      <th>SibSp</th>\n",
       "      <th>Parch</th>\n",
       "      <th>female</th>\n",
       "      <th>male</th>\n",
       "      <th>C</th>\n",
       "      <th>Q</th>\n",
       "      <th>S</th>\n",
       "    </tr>\n",
       "  </thead>\n",
       "  <tbody>\n",
       "    <tr>\n",
       "      <th>0</th>\n",
       "      <td>1</td>\n",
       "      <td>0</td>\n",
       "      <td>3</td>\n",
       "      <td>1</td>\n",
       "      <td>1</td>\n",
       "      <td>0</td>\n",
       "      <td>0</td>\n",
       "      <td>1</td>\n",
       "      <td>0</td>\n",
       "      <td>0</td>\n",
       "      <td>1</td>\n",
       "    </tr>\n",
       "    <tr>\n",
       "      <th>1</th>\n",
       "      <td>2</td>\n",
       "      <td>1</td>\n",
       "      <td>1</td>\n",
       "      <td>2</td>\n",
       "      <td>1</td>\n",
       "      <td>0</td>\n",
       "      <td>1</td>\n",
       "      <td>0</td>\n",
       "      <td>1</td>\n",
       "      <td>0</td>\n",
       "      <td>0</td>\n",
       "    </tr>\n",
       "    <tr>\n",
       "      <th>2</th>\n",
       "      <td>3</td>\n",
       "      <td>1</td>\n",
       "      <td>3</td>\n",
       "      <td>3</td>\n",
       "      <td>0</td>\n",
       "      <td>0</td>\n",
       "      <td>1</td>\n",
       "      <td>0</td>\n",
       "      <td>0</td>\n",
       "      <td>0</td>\n",
       "      <td>1</td>\n",
       "    </tr>\n",
       "    <tr>\n",
       "      <th>3</th>\n",
       "      <td>4</td>\n",
       "      <td>1</td>\n",
       "      <td>1</td>\n",
       "      <td>4</td>\n",
       "      <td>1</td>\n",
       "      <td>0</td>\n",
       "      <td>1</td>\n",
       "      <td>0</td>\n",
       "      <td>0</td>\n",
       "      <td>0</td>\n",
       "      <td>1</td>\n",
       "    </tr>\n",
       "    <tr>\n",
       "      <th>4</th>\n",
       "      <td>5</td>\n",
       "      <td>0</td>\n",
       "      <td>3</td>\n",
       "      <td>5</td>\n",
       "      <td>0</td>\n",
       "      <td>0</td>\n",
       "      <td>0</td>\n",
       "      <td>1</td>\n",
       "      <td>0</td>\n",
       "      <td>0</td>\n",
       "      <td>1</td>\n",
       "    </tr>\n",
       "  </tbody>\n",
       "</table>\n",
       "</div>"
      ],
      "text/plain": [
       "   PassengerId  Survived  Pclass Age  SibSp  Parch  female  male  C  Q  S\n",
       "0            1         0       3   1      1      0       0     1  0  0  1\n",
       "1            2         1       1   2      1      0       1     0  1  0  0\n",
       "2            3         1       3   3      0      0       1     0  0  0  1\n",
       "3            4         1       1   4      1      0       1     0  0  0  1\n",
       "4            5         0       3   5      0      0       0     1  0  0  1"
      ]
     },
     "execution_count": 16,
     "metadata": {},
     "output_type": "execute_result"
    }
   ],
   "source": [
    "train=pd.concat([train,sex,embarked],axis=1)\n",
    "train.drop(['Sex','Embarked','Ticket','Name'],axis=1,inplace=True)\n",
    "train.head()"
   ]
  },
  {
   "cell_type": "markdown",
   "id": "swiss-ocean",
   "metadata": {
    "papermill": {
     "duration": 0.045039,
     "end_time": "2021-04-05T12:52:10.226007",
     "exception": false,
     "start_time": "2021-04-05T12:52:10.180968",
     "status": "completed"
    },
    "tags": []
   },
   "source": [
    "**Introducing the test data set**"
   ]
  },
  {
   "cell_type": "code",
   "execution_count": 17,
   "id": "postal-protest",
   "metadata": {
    "execution": {
     "iopub.execute_input": "2021-04-05T12:52:10.321877Z",
     "iopub.status.busy": "2021-04-05T12:52:10.321076Z",
     "iopub.status.idle": "2021-04-05T12:52:10.346282Z",
     "shell.execute_reply": "2021-04-05T12:52:10.346765Z"
    },
    "papermill": {
     "duration": 0.075504,
     "end_time": "2021-04-05T12:52:10.346968",
     "exception": false,
     "start_time": "2021-04-05T12:52:10.271464",
     "status": "completed"
    },
    "tags": []
   },
   "outputs": [
    {
     "data": {
      "text/html": [
       "<div>\n",
       "<style scoped>\n",
       "    .dataframe tbody tr th:only-of-type {\n",
       "        vertical-align: middle;\n",
       "    }\n",
       "\n",
       "    .dataframe tbody tr th {\n",
       "        vertical-align: top;\n",
       "    }\n",
       "\n",
       "    .dataframe thead th {\n",
       "        text-align: right;\n",
       "    }\n",
       "</style>\n",
       "<table border=\"1\" class=\"dataframe\">\n",
       "  <thead>\n",
       "    <tr style=\"text-align: right;\">\n",
       "      <th></th>\n",
       "      <th>PassengerId</th>\n",
       "      <th>Pclass</th>\n",
       "      <th>Name</th>\n",
       "      <th>Sex</th>\n",
       "      <th>Age</th>\n",
       "      <th>SibSp</th>\n",
       "      <th>Parch</th>\n",
       "      <th>Ticket</th>\n",
       "      <th>Fare</th>\n",
       "      <th>Cabin</th>\n",
       "      <th>Embarked</th>\n",
       "    </tr>\n",
       "  </thead>\n",
       "  <tbody>\n",
       "    <tr>\n",
       "      <th>0</th>\n",
       "      <td>892</td>\n",
       "      <td>3</td>\n",
       "      <td>Kelly, Mr. James</td>\n",
       "      <td>male</td>\n",
       "      <td>34.5</td>\n",
       "      <td>0</td>\n",
       "      <td>0</td>\n",
       "      <td>330911</td>\n",
       "      <td>7.8292</td>\n",
       "      <td>NaN</td>\n",
       "      <td>Q</td>\n",
       "    </tr>\n",
       "    <tr>\n",
       "      <th>1</th>\n",
       "      <td>893</td>\n",
       "      <td>3</td>\n",
       "      <td>Wilkes, Mrs. James (Ellen Needs)</td>\n",
       "      <td>female</td>\n",
       "      <td>47.0</td>\n",
       "      <td>1</td>\n",
       "      <td>0</td>\n",
       "      <td>363272</td>\n",
       "      <td>7.0000</td>\n",
       "      <td>NaN</td>\n",
       "      <td>S</td>\n",
       "    </tr>\n",
       "    <tr>\n",
       "      <th>2</th>\n",
       "      <td>894</td>\n",
       "      <td>2</td>\n",
       "      <td>Myles, Mr. Thomas Francis</td>\n",
       "      <td>male</td>\n",
       "      <td>62.0</td>\n",
       "      <td>0</td>\n",
       "      <td>0</td>\n",
       "      <td>240276</td>\n",
       "      <td>9.6875</td>\n",
       "      <td>NaN</td>\n",
       "      <td>Q</td>\n",
       "    </tr>\n",
       "    <tr>\n",
       "      <th>3</th>\n",
       "      <td>895</td>\n",
       "      <td>3</td>\n",
       "      <td>Wirz, Mr. Albert</td>\n",
       "      <td>male</td>\n",
       "      <td>27.0</td>\n",
       "      <td>0</td>\n",
       "      <td>0</td>\n",
       "      <td>315154</td>\n",
       "      <td>8.6625</td>\n",
       "      <td>NaN</td>\n",
       "      <td>S</td>\n",
       "    </tr>\n",
       "    <tr>\n",
       "      <th>4</th>\n",
       "      <td>896</td>\n",
       "      <td>3</td>\n",
       "      <td>Hirvonen, Mrs. Alexander (Helga E Lindqvist)</td>\n",
       "      <td>female</td>\n",
       "      <td>22.0</td>\n",
       "      <td>1</td>\n",
       "      <td>1</td>\n",
       "      <td>3101298</td>\n",
       "      <td>12.2875</td>\n",
       "      <td>NaN</td>\n",
       "      <td>S</td>\n",
       "    </tr>\n",
       "  </tbody>\n",
       "</table>\n",
       "</div>"
      ],
      "text/plain": [
       "   PassengerId  Pclass                                          Name     Sex  \\\n",
       "0          892       3                              Kelly, Mr. James    male   \n",
       "1          893       3              Wilkes, Mrs. James (Ellen Needs)  female   \n",
       "2          894       2                     Myles, Mr. Thomas Francis    male   \n",
       "3          895       3                              Wirz, Mr. Albert    male   \n",
       "4          896       3  Hirvonen, Mrs. Alexander (Helga E Lindqvist)  female   \n",
       "\n",
       "    Age  SibSp  Parch   Ticket     Fare Cabin Embarked  \n",
       "0  34.5      0      0   330911   7.8292   NaN        Q  \n",
       "1  47.0      1      0   363272   7.0000   NaN        S  \n",
       "2  62.0      0      0   240276   9.6875   NaN        Q  \n",
       "3  27.0      0      0   315154   8.6625   NaN        S  \n",
       "4  22.0      1      1  3101298  12.2875   NaN        S  "
      ]
     },
     "execution_count": 17,
     "metadata": {},
     "output_type": "execute_result"
    }
   ],
   "source": [
    "test=pd.read_csv(r\"/kaggle/input/titanic/test.csv\")\n",
    "test.head()"
   ]
  },
  {
   "cell_type": "markdown",
   "id": "express-transfer",
   "metadata": {
    "papermill": {
     "duration": 0.045568,
     "end_time": "2021-04-05T12:52:10.442972",
     "exception": false,
     "start_time": "2021-04-05T12:52:10.397404",
     "status": "completed"
    },
    "tags": []
   },
   "source": [
    "Observing the null values and taking proper action against them"
   ]
  },
  {
   "cell_type": "code",
   "execution_count": 18,
   "id": "heavy-alcohol",
   "metadata": {
    "execution": {
     "iopub.execute_input": "2021-04-05T12:52:10.541880Z",
     "iopub.status.busy": "2021-04-05T12:52:10.541243Z",
     "iopub.status.idle": "2021-04-05T12:52:10.550510Z",
     "shell.execute_reply": "2021-04-05T12:52:10.549722Z"
    },
    "papermill": {
     "duration": 0.061859,
     "end_time": "2021-04-05T12:52:10.550661",
     "exception": false,
     "start_time": "2021-04-05T12:52:10.488802",
     "status": "completed"
    },
    "tags": []
   },
   "outputs": [
    {
     "data": {
      "text/plain": [
       "PassengerId      0\n",
       "Pclass           0\n",
       "Name             0\n",
       "Sex              0\n",
       "Age             86\n",
       "SibSp            0\n",
       "Parch            0\n",
       "Ticket           0\n",
       "Fare             1\n",
       "Cabin          327\n",
       "Embarked         0\n",
       "dtype: int64"
      ]
     },
     "execution_count": 18,
     "metadata": {},
     "output_type": "execute_result"
    }
   ],
   "source": [
    "test.isnull().sum()"
   ]
  },
  {
   "cell_type": "markdown",
   "id": "characteristic-carpet",
   "metadata": {
    "papermill": {
     "duration": 0.046625,
     "end_time": "2021-04-05T12:52:10.644659",
     "exception": false,
     "start_time": "2021-04-05T12:52:10.598034",
     "status": "completed"
    },
    "tags": []
   },
   "source": [
    "Since, Cabin has most of the values as null, it can be removed from the dataset"
   ]
  },
  {
   "cell_type": "code",
   "execution_count": 19,
   "id": "unknown-trailer",
   "metadata": {
    "execution": {
     "iopub.execute_input": "2021-04-05T12:52:10.745706Z",
     "iopub.status.busy": "2021-04-05T12:52:10.744463Z",
     "iopub.status.idle": "2021-04-05T12:52:10.748258Z",
     "shell.execute_reply": "2021-04-05T12:52:10.747612Z"
    },
    "papermill": {
     "duration": 0.056751,
     "end_time": "2021-04-05T12:52:10.748404",
     "exception": false,
     "start_time": "2021-04-05T12:52:10.691653",
     "status": "completed"
    },
    "tags": []
   },
   "outputs": [],
   "source": [
    "test.drop('Cabin',axis=1,inplace=True)"
   ]
  },
  {
   "cell_type": "markdown",
   "id": "vertical-hawaiian",
   "metadata": {
    "papermill": {
     "duration": 0.046459,
     "end_time": "2021-04-05T12:52:10.842747",
     "exception": false,
     "start_time": "2021-04-05T12:52:10.796288",
     "status": "completed"
    },
    "tags": []
   },
   "source": [
    "Since the age column dosent have a lot of null values, they can be replaced with median of the values of the column"
   ]
  },
  {
   "cell_type": "code",
   "execution_count": 20,
   "id": "international-people",
   "metadata": {
    "execution": {
     "iopub.execute_input": "2021-04-05T12:52:10.944395Z",
     "iopub.status.busy": "2021-04-05T12:52:10.943331Z",
     "iopub.status.idle": "2021-04-05T12:52:10.947631Z",
     "shell.execute_reply": "2021-04-05T12:52:10.946987Z"
    },
    "papermill": {
     "duration": 0.058399,
     "end_time": "2021-04-05T12:52:10.947769",
     "exception": false,
     "start_time": "2021-04-05T12:52:10.889370",
     "status": "completed"
    },
    "tags": []
   },
   "outputs": [],
   "source": [
    "test['Age']=test.fillna(test.Age.median())"
   ]
  },
  {
   "cell_type": "code",
   "execution_count": 21,
   "id": "ambient-objective",
   "metadata": {
    "execution": {
     "iopub.execute_input": "2021-04-05T12:52:11.049191Z",
     "iopub.status.busy": "2021-04-05T12:52:11.048412Z",
     "iopub.status.idle": "2021-04-05T12:52:11.282689Z",
     "shell.execute_reply": "2021-04-05T12:52:11.281877Z"
    },
    "papermill": {
     "duration": 0.287786,
     "end_time": "2021-04-05T12:52:11.282851",
     "exception": false,
     "start_time": "2021-04-05T12:52:10.995065",
     "status": "completed"
    },
    "tags": []
   },
   "outputs": [
    {
     "data": {
      "text/plain": [
       "<AxesSubplot:>"
      ]
     },
     "execution_count": 21,
     "metadata": {},
     "output_type": "execute_result"
    },
    {
     "data": {
      "image/png": "[encoded data removed]",
      "text/plain": [
       "<Figure size 432x288 with 1 Axes>"
      ]
     },
     "metadata": {
      "needs_background": "light"
     },
     "output_type": "display_data"
    }
   ],
   "source": [
    "test.boxplot()"
   ]
  },
  {
   "cell_type": "code",
   "execution_count": 22,
   "id": "cooked-script",
   "metadata": {
    "execution": {
     "iopub.execute_input": "2021-04-05T12:52:11.383080Z",
     "iopub.status.busy": "2021-04-05T12:52:11.382118Z",
     "iopub.status.idle": "2021-04-05T12:52:11.512734Z",
     "shell.execute_reply": "2021-04-05T12:52:11.513309Z"
    },
    "papermill": {
     "duration": 0.182321,
     "end_time": "2021-04-05T12:52:11.513477",
     "exception": false,
     "start_time": "2021-04-05T12:52:11.331156",
     "status": "completed"
    },
    "tags": []
   },
   "outputs": [
    {
     "data": {
      "text/plain": [
       "<AxesSubplot:>"
      ]
     },
     "execution_count": 22,
     "metadata": {},
     "output_type": "execute_result"
    },
    {
     "data": {
      "image/png": "[encoded data removed]",
      "text/plain": [
       "<Figure size 432x288 with 1 Axes>"
      ]
     },
     "metadata": {
      "needs_background": "light"
     },
     "output_type": "display_data"
    }
   ],
   "source": [
    "test.boxplot(column=['Fare'])"
   ]
  },
  {
   "cell_type": "markdown",
   "id": "alone-rugby",
   "metadata": {
    "papermill": {
     "duration": 0.049272,
     "end_time": "2021-04-05T12:52:11.611792",
     "exception": false,
     "start_time": "2021-04-05T12:52:11.562520",
     "status": "completed"
    },
    "tags": []
   },
   "source": [
    "Since many values in the Fare column lie utside the interquartile range, it can be ignored as well"
   ]
  },
  {
   "cell_type": "code",
   "execution_count": 23,
   "id": "sound-heath",
   "metadata": {
    "execution": {
     "iopub.execute_input": "2021-04-05T12:52:11.714256Z",
     "iopub.status.busy": "2021-04-05T12:52:11.713286Z",
     "iopub.status.idle": "2021-04-05T12:52:11.719679Z",
     "shell.execute_reply": "2021-04-05T12:52:11.719103Z"
    },
    "papermill": {
     "duration": 0.058472,
     "end_time": "2021-04-05T12:52:11.719834",
     "exception": false,
     "start_time": "2021-04-05T12:52:11.661362",
     "status": "completed"
    },
    "tags": []
   },
   "outputs": [],
   "source": [
    "test.drop('Fare',axis=1,inplace=True)"
   ]
  },
  {
   "cell_type": "markdown",
   "id": "weird-malaysia",
   "metadata": {
    "papermill": {
     "duration": 0.048692,
     "end_time": "2021-04-05T12:52:11.817961",
     "exception": false,
     "start_time": "2021-04-05T12:52:11.769269",
     "status": "completed"
    },
    "tags": []
   },
   "source": [
    "**One-Hot Encoding** (for converting categorical columns into numerical)"
   ]
  },
  {
   "cell_type": "code",
   "execution_count": 24,
   "id": "large-hollywood",
   "metadata": {
    "execution": {
     "iopub.execute_input": "2021-04-05T12:52:11.923360Z",
     "iopub.status.busy": "2021-04-05T12:52:11.922687Z",
     "iopub.status.idle": "2021-04-05T12:52:11.928279Z",
     "shell.execute_reply": "2021-04-05T12:52:11.927296Z"
    },
    "papermill": {
     "duration": 0.060482,
     "end_time": "2021-04-05T12:52:11.928430",
     "exception": false,
     "start_time": "2021-04-05T12:52:11.867948",
     "status": "completed"
    },
    "tags": []
   },
   "outputs": [],
   "source": [
    "sex=pd.get_dummies(test[\"Sex\"])\n",
    "embarked=pd.get_dummies(test[\"Embarked\"])"
   ]
  },
  {
   "cell_type": "code",
   "execution_count": 25,
   "id": "bound-poker",
   "metadata": {
    "execution": {
     "iopub.execute_input": "2021-04-05T12:52:12.045429Z",
     "iopub.status.busy": "2021-04-05T12:52:12.036597Z",
     "iopub.status.idle": "2021-04-05T12:52:12.049556Z",
     "shell.execute_reply": "2021-04-05T12:52:12.050113Z"
    },
    "papermill": {
     "duration": 0.07187,
     "end_time": "2021-04-05T12:52:12.050307",
     "exception": false,
     "start_time": "2021-04-05T12:52:11.978437",
     "status": "completed"
    },
    "tags": []
   },
   "outputs": [
    {
     "data": {
      "text/html": [
       "<div>\n",
       "<style scoped>\n",
       "    .dataframe tbody tr th:only-of-type {\n",
       "        vertical-align: middle;\n",
       "    }\n",
       "\n",
       "    .dataframe tbody tr th {\n",
       "        vertical-align: top;\n",
       "    }\n",
       "\n",
       "    .dataframe thead th {\n",
       "        text-align: right;\n",
       "    }\n",
       "</style>\n",
       "<table border=\"1\" class=\"dataframe\">\n",
       "  <thead>\n",
       "    <tr style=\"text-align: right;\">\n",
       "      <th></th>\n",
       "      <th>PassengerId</th>\n",
       "      <th>Pclass</th>\n",
       "      <th>Age</th>\n",
       "      <th>SibSp</th>\n",
       "      <th>Parch</th>\n",
       "      <th>female</th>\n",
       "      <th>male</th>\n",
       "      <th>C</th>\n",
       "      <th>Q</th>\n",
       "      <th>S</th>\n",
       "    </tr>\n",
       "  </thead>\n",
       "  <tbody>\n",
       "    <tr>\n",
       "      <th>0</th>\n",
       "      <td>892</td>\n",
       "      <td>3</td>\n",
       "      <td>892</td>\n",
       "      <td>0</td>\n",
       "      <td>0</td>\n",
       "      <td>0</td>\n",
       "      <td>1</td>\n",
       "      <td>0</td>\n",
       "      <td>1</td>\n",
       "      <td>0</td>\n",
       "    </tr>\n",
       "    <tr>\n",
       "      <th>1</th>\n",
       "      <td>893</td>\n",
       "      <td>3</td>\n",
       "      <td>893</td>\n",
       "      <td>1</td>\n",
       "      <td>0</td>\n",
       "      <td>1</td>\n",
       "      <td>0</td>\n",
       "      <td>0</td>\n",
       "      <td>0</td>\n",
       "      <td>1</td>\n",
       "    </tr>\n",
       "    <tr>\n",
       "      <th>2</th>\n",
       "      <td>894</td>\n",
       "      <td>2</td>\n",
       "      <td>894</td>\n",
       "      <td>0</td>\n",
       "      <td>0</td>\n",
       "      <td>0</td>\n",
       "      <td>1</td>\n",
       "      <td>0</td>\n",
       "      <td>1</td>\n",
       "      <td>0</td>\n",
       "    </tr>\n",
       "    <tr>\n",
       "      <th>3</th>\n",
       "      <td>895</td>\n",
       "      <td>3</td>\n",
       "      <td>895</td>\n",
       "      <td>0</td>\n",
       "      <td>0</td>\n",
       "      <td>0</td>\n",
       "      <td>1</td>\n",
       "      <td>0</td>\n",
       "      <td>0</td>\n",
       "      <td>1</td>\n",
       "    </tr>\n",
       "    <tr>\n",
       "      <th>4</th>\n",
       "      <td>896</td>\n",
       "      <td>3</td>\n",
       "      <td>896</td>\n",
       "      <td>1</td>\n",
       "      <td>1</td>\n",
       "      <td>1</td>\n",
       "      <td>0</td>\n",
       "      <td>0</td>\n",
       "      <td>0</td>\n",
       "      <td>1</td>\n",
       "    </tr>\n",
       "  </tbody>\n",
       "</table>\n",
       "</div>"
      ],
      "text/plain": [
       "   PassengerId  Pclass  Age  SibSp  Parch  female  male  C  Q  S\n",
       "0          892       3  892      0      0       0     1  0  1  0\n",
       "1          893       3  893      1      0       1     0  0  0  1\n",
       "2          894       2  894      0      0       0     1  0  1  0\n",
       "3          895       3  895      0      0       0     1  0  0  1\n",
       "4          896       3  896      1      1       1     0  0  0  1"
      ]
     },
     "execution_count": 25,
     "metadata": {},
     "output_type": "execute_result"
    }
   ],
   "source": [
    "test=pd.concat([test,sex,embarked],axis=1)\n",
    "test.drop(['Sex','Embarked','Ticket','Name'],axis=1,inplace=True)\n",
    "test.head()"
   ]
  },
  {
   "cell_type": "markdown",
   "id": "fancy-atmosphere",
   "metadata": {
    "papermill": {
     "duration": 0.049964,
     "end_time": "2021-04-05T12:52:12.151067",
     "exception": false,
     "start_time": "2021-04-05T12:52:12.101103",
     "status": "completed"
    },
    "tags": []
   },
   "source": [
    "**Splitting the data into train and test** "
   ]
  },
  {
   "cell_type": "code",
   "execution_count": 26,
   "id": "alike-designer",
   "metadata": {
    "execution": {
     "iopub.execute_input": "2021-04-05T12:52:12.255652Z",
     "iopub.status.busy": "2021-04-05T12:52:12.254808Z",
     "iopub.status.idle": "2021-04-05T12:52:12.535936Z",
     "shell.execute_reply": "2021-04-05T12:52:12.535221Z"
    },
    "papermill": {
     "duration": 0.33449,
     "end_time": "2021-04-05T12:52:12.536079",
     "exception": false,
     "start_time": "2021-04-05T12:52:12.201589",
     "status": "completed"
    },
    "tags": []
   },
   "outputs": [],
   "source": [
    "x_train,x_test,y_train,y_test=train_test_split(train.drop(\"Survived\",axis=1),train['Survived'],test_size=0.2,random_state=0)"
   ]
  },
  {
   "cell_type": "code",
   "execution_count": 27,
   "id": "competitive-gilbert",
   "metadata": {
    "execution": {
     "iopub.execute_input": "2021-04-05T12:52:12.647265Z",
     "iopub.status.busy": "2021-04-05T12:52:12.646562Z",
     "iopub.status.idle": "2021-04-05T12:52:12.649673Z",
     "shell.execute_reply": "2021-04-05T12:52:12.650293Z"
    },
    "papermill": {
     "duration": 0.064169,
     "end_time": "2021-04-05T12:52:12.650472",
     "exception": false,
     "start_time": "2021-04-05T12:52:12.586303",
     "status": "completed"
    },
    "tags": []
   },
   "outputs": [
    {
     "data": {
      "text/plain": [
       "PassengerId    0\n",
       "Survived       0\n",
       "Pclass         0\n",
       "Age            0\n",
       "SibSp          0\n",
       "Parch          0\n",
       "female         0\n",
       "male           0\n",
       "C              0\n",
       "Q              0\n",
       "S              0\n",
       "dtype: int64"
      ]
     },
     "execution_count": 27,
     "metadata": {},
     "output_type": "execute_result"
    }
   ],
   "source": [
    "train.isnull().sum()"
   ]
  },
  {
   "cell_type": "markdown",
   "id": "cooperative-vintage",
   "metadata": {
    "papermill": {
     "duration": 0.050157,
     "end_time": "2021-04-05T12:52:12.752882",
     "exception": false,
     "start_time": "2021-04-05T12:52:12.702725",
     "status": "completed"
    },
    "tags": []
   },
   "source": [
    "**Logistic Regression**"
   ]
  },
  {
   "cell_type": "code",
   "execution_count": 28,
   "id": "effective-story",
   "metadata": {
    "execution": {
     "iopub.execute_input": "2021-04-05T12:52:12.857367Z",
     "iopub.status.busy": "2021-04-05T12:52:12.856662Z",
     "iopub.status.idle": "2021-04-05T12:52:13.044922Z",
     "shell.execute_reply": "2021-04-05T12:52:13.045649Z"
    },
    "papermill": {
     "duration": 0.242746,
     "end_time": "2021-04-05T12:52:13.046074",
     "exception": false,
     "start_time": "2021-04-05T12:52:12.803328",
     "status": "completed"
    },
    "tags": []
   },
   "outputs": [
    {
     "name": "stderr",
     "output_type": "stream",
     "text": [
      "/opt/conda/lib/python3.7/site-packages/sklearn/linear_model/_logistic.py:765: ConvergenceWarning: lbfgs failed to converge (status=1):\n",
      "STOP: TOTAL NO. of ITERATIONS REACHED LIMIT.\n",
      "\n",
      "Increase the number of iterations (max_iter) or scale the data as shown in:\n",
      "    https://scikit-learn.org/stable/modules/preprocessing.html\n",
      "Please also refer to the documentation for alternative solver options:\n",
      "    https://scikit-learn.org/stable/modules/linear_model.html#logistic-regression\n",
      "  extra_warning_msg=_LOGISTIC_SOLVER_CONVERGENCE_MSG)\n"
     ]
    },
    {
     "data": {
      "text/plain": [
       "LogisticRegression()"
      ]
     },
     "execution_count": 28,
     "metadata": {},
     "output_type": "execute_result"
    }
   ],
   "source": [
    "classifier=LogisticRegression()\n",
    "classifier.fit(x_train,y_train)"
   ]
  },
  {
   "cell_type": "code",
   "execution_count": 29,
   "id": "recorded-allergy",
   "metadata": {
    "execution": {
     "iopub.execute_input": "2021-04-05T12:52:13.158851Z",
     "iopub.status.busy": "2021-04-05T12:52:13.157927Z",
     "iopub.status.idle": "2021-04-05T12:52:13.162341Z",
     "shell.execute_reply": "2021-04-05T12:52:13.162876Z"
    },
    "papermill": {
     "duration": 0.063704,
     "end_time": "2021-04-05T12:52:13.163063",
     "exception": false,
     "start_time": "2021-04-05T12:52:13.099359",
     "status": "completed"
    },
    "tags": []
   },
   "outputs": [],
   "source": [
    "predict=classifier.predict(x_test)"
   ]
  },
  {
   "cell_type": "code",
   "execution_count": 30,
   "id": "expired-liberia",
   "metadata": {
    "execution": {
     "iopub.execute_input": "2021-04-05T12:52:13.274084Z",
     "iopub.status.busy": "2021-04-05T12:52:13.272943Z",
     "iopub.status.idle": "2021-04-05T12:52:13.278368Z",
     "shell.execute_reply": "2021-04-05T12:52:13.277805Z"
    },
    "papermill": {
     "duration": 0.063501,
     "end_time": "2021-04-05T12:52:13.278506",
     "exception": false,
     "start_time": "2021-04-05T12:52:13.215005",
     "status": "completed"
    },
    "tags": []
   },
   "outputs": [
    {
     "data": {
      "text/plain": [
       "0.7988826815642458"
      ]
     },
     "execution_count": 30,
     "metadata": {},
     "output_type": "execute_result"
    }
   ],
   "source": [
    "accuracy=accuracy_score(y_test,predict)\n",
    "accuracy"
   ]
  },
  {
   "cell_type": "markdown",
   "id": "swedish-receiver",
   "metadata": {
    "papermill": {
     "duration": 0.05292,
     "end_time": "2021-04-05T12:52:13.383613",
     "exception": false,
     "start_time": "2021-04-05T12:52:13.330693",
     "status": "completed"
    },
    "tags": []
   },
   "source": [
    "**Random Forest**"
   ]
  },
  {
   "cell_type": "code",
   "execution_count": 31,
   "id": "constant-lawrence",
   "metadata": {
    "execution": {
     "iopub.execute_input": "2021-04-05T12:52:13.493903Z",
     "iopub.status.busy": "2021-04-05T12:52:13.492995Z",
     "iopub.status.idle": "2021-04-05T12:52:13.897870Z",
     "shell.execute_reply": "2021-04-05T12:52:13.897183Z"
    },
    "papermill": {
     "duration": 0.462096,
     "end_time": "2021-04-05T12:52:13.898011",
     "exception": false,
     "start_time": "2021-04-05T12:52:13.435915",
     "status": "completed"
    },
    "tags": []
   },
   "outputs": [
    {
     "data": {
      "text/plain": [
       "RandomForestClassifier(random_state=10)"
      ]
     },
     "execution_count": 31,
     "metadata": {},
     "output_type": "execute_result"
    }
   ],
   "source": [
    "rf_classifier = RandomForestClassifier(criterion=\"gini\",max_depth=None,min_samples_leaf=1,random_state=10)\n",
    "rf_classifier.fit(x_train,y_train)"
   ]
  },
  {
   "cell_type": "code",
   "execution_count": 32,
   "id": "rental-syntax",
   "metadata": {
    "execution": {
     "iopub.execute_input": "2021-04-05T12:52:14.010150Z",
     "iopub.status.busy": "2021-04-05T12:52:14.009440Z",
     "iopub.status.idle": "2021-04-05T12:52:14.028333Z",
     "shell.execute_reply": "2021-04-05T12:52:14.029092Z"
    },
    "papermill": {
     "duration": 0.078597,
     "end_time": "2021-04-05T12:52:14.029312",
     "exception": false,
     "start_time": "2021-04-05T12:52:13.950715",
     "status": "completed"
    },
    "tags": []
   },
   "outputs": [],
   "source": [
    "pred3 = rf_classifier.predict(x_test)"
   ]
  },
  {
   "cell_type": "code",
   "execution_count": 33,
   "id": "aerial-semester",
   "metadata": {
    "execution": {
     "iopub.execute_input": "2021-04-05T12:52:14.142139Z",
     "iopub.status.busy": "2021-04-05T12:52:14.141328Z",
     "iopub.status.idle": "2021-04-05T12:52:14.145670Z",
     "shell.execute_reply": "2021-04-05T12:52:14.145061Z"
    },
    "papermill": {
     "duration": 0.062656,
     "end_time": "2021-04-05T12:52:14.145803",
     "exception": false,
     "start_time": "2021-04-05T12:52:14.083147",
     "status": "completed"
    },
    "tags": []
   },
   "outputs": [
    {
     "data": {
      "text/plain": [
       "0.7932960893854749"
      ]
     },
     "execution_count": 33,
     "metadata": {},
     "output_type": "execute_result"
    }
   ],
   "source": [
    "accuracy_rf=accuracy_score(y_test,pred3)\n",
    "accuracy_rf"
   ]
  },
  {
   "cell_type": "markdown",
   "id": "tribal-addiction",
   "metadata": {
    "papermill": {
     "duration": 0.052624,
     "end_time": "2021-04-05T12:52:14.253155",
     "exception": false,
     "start_time": "2021-04-05T12:52:14.200531",
     "status": "completed"
    },
    "tags": []
   },
   "source": [
    "**Decision Trees**"
   ]
  },
  {
   "cell_type": "code",
   "execution_count": 34,
   "id": "funny-unknown",
   "metadata": {
    "execution": {
     "iopub.execute_input": "2021-04-05T12:52:14.368508Z",
     "iopub.status.busy": "2021-04-05T12:52:14.367499Z",
     "iopub.status.idle": "2021-04-05T12:52:14.375900Z",
     "shell.execute_reply": "2021-04-05T12:52:14.375248Z"
    },
    "papermill": {
     "duration": 0.07013,
     "end_time": "2021-04-05T12:52:14.376043",
     "exception": false,
     "start_time": "2021-04-05T12:52:14.305913",
     "status": "completed"
    },
    "tags": []
   },
   "outputs": [
    {
     "data": {
      "text/plain": [
       "DecisionTreeClassifier(random_state=7)"
      ]
     },
     "execution_count": 34,
     "metadata": {},
     "output_type": "execute_result"
    }
   ],
   "source": [
    "decision_classifier=DecisionTreeClassifier(criterion=\"gini\",max_depth=None,min_samples_leaf=1,random_state=7)\n",
    "decision_classifier.fit(x_train,y_train)"
   ]
  },
  {
   "cell_type": "code",
   "execution_count": 35,
   "id": "formed-split",
   "metadata": {
    "execution": {
     "iopub.execute_input": "2021-04-05T12:52:14.491692Z",
     "iopub.status.busy": "2021-04-05T12:52:14.490662Z",
     "iopub.status.idle": "2021-04-05T12:52:14.494586Z",
     "shell.execute_reply": "2021-04-05T12:52:14.493806Z"
    },
    "papermill": {
     "duration": 0.06518,
     "end_time": "2021-04-05T12:52:14.494730",
     "exception": false,
     "start_time": "2021-04-05T12:52:14.429550",
     "status": "completed"
    },
    "tags": []
   },
   "outputs": [],
   "source": [
    "pred2=decision_classifier.predict(x_test)\n"
   ]
  },
  {
   "cell_type": "code",
   "execution_count": 36,
   "id": "upset-central",
   "metadata": {
    "execution": {
     "iopub.execute_input": "2021-04-05T12:52:14.609334Z",
     "iopub.status.busy": "2021-04-05T12:52:14.608445Z",
     "iopub.status.idle": "2021-04-05T12:52:14.613358Z",
     "shell.execute_reply": "2021-04-05T12:52:14.612727Z"
    },
    "papermill": {
     "duration": 0.064957,
     "end_time": "2021-04-05T12:52:14.613517",
     "exception": false,
     "start_time": "2021-04-05T12:52:14.548560",
     "status": "completed"
    },
    "tags": []
   },
   "outputs": [
    {
     "data": {
      "text/plain": [
       "0.7039106145251397"
      ]
     },
     "execution_count": 36,
     "metadata": {},
     "output_type": "execute_result"
    }
   ],
   "source": [
    "accuracy_dt=accuracy_score(y_test,pred2)\n",
    "accuracy_dt"
   ]
  },
  {
   "cell_type": "markdown",
   "id": "saved-bookmark",
   "metadata": {
    "papermill": {
     "duration": 0.054143,
     "end_time": "2021-04-05T12:52:14.722215",
     "exception": false,
     "start_time": "2021-04-05T12:52:14.668072",
     "status": "completed"
    },
    "tags": []
   },
   "source": [
    "**In the above three classification models, since Logisitic Regression had the highest accuracy compared to the others, we would be proceeding with the same.**"
   ]
  },
  {
   "cell_type": "code",
   "execution_count": 37,
   "id": "beginning-python",
   "metadata": {
    "execution": {
     "iopub.execute_input": "2021-04-05T12:52:14.847806Z",
     "iopub.status.busy": "2021-04-05T12:52:14.847026Z",
     "iopub.status.idle": "2021-04-05T12:52:14.851010Z",
     "shell.execute_reply": "2021-04-05T12:52:14.851516Z"
    },
    "papermill": {
     "duration": 0.074972,
     "end_time": "2021-04-05T12:52:14.851689",
     "exception": false,
     "start_time": "2021-04-05T12:52:14.776717",
     "status": "completed"
    },
    "tags": []
   },
   "outputs": [
    {
     "data": {
      "text/html": [
       "<div>\n",
       "<style scoped>\n",
       "    .dataframe tbody tr th:only-of-type {\n",
       "        vertical-align: middle;\n",
       "    }\n",
       "\n",
       "    .dataframe tbody tr th {\n",
       "        vertical-align: top;\n",
       "    }\n",
       "\n",
       "    .dataframe thead th {\n",
       "        text-align: right;\n",
       "    }\n",
       "</style>\n",
       "<table border=\"1\" class=\"dataframe\">\n",
       "  <thead>\n",
       "    <tr style=\"text-align: right;\">\n",
       "      <th></th>\n",
       "      <th>PassengerId</th>\n",
       "      <th>Pclass</th>\n",
       "      <th>Age</th>\n",
       "      <th>SibSp</th>\n",
       "      <th>Parch</th>\n",
       "      <th>female</th>\n",
       "      <th>male</th>\n",
       "      <th>C</th>\n",
       "      <th>Q</th>\n",
       "      <th>S</th>\n",
       "    </tr>\n",
       "  </thead>\n",
       "  <tbody>\n",
       "    <tr>\n",
       "      <th>0</th>\n",
       "      <td>892</td>\n",
       "      <td>3</td>\n",
       "      <td>892</td>\n",
       "      <td>0</td>\n",
       "      <td>0</td>\n",
       "      <td>0</td>\n",
       "      <td>1</td>\n",
       "      <td>0</td>\n",
       "      <td>1</td>\n",
       "      <td>0</td>\n",
       "    </tr>\n",
       "    <tr>\n",
       "      <th>1</th>\n",
       "      <td>893</td>\n",
       "      <td>3</td>\n",
       "      <td>893</td>\n",
       "      <td>1</td>\n",
       "      <td>0</td>\n",
       "      <td>1</td>\n",
       "      <td>0</td>\n",
       "      <td>0</td>\n",
       "      <td>0</td>\n",
       "      <td>1</td>\n",
       "    </tr>\n",
       "    <tr>\n",
       "      <th>2</th>\n",
       "      <td>894</td>\n",
       "      <td>2</td>\n",
       "      <td>894</td>\n",
       "      <td>0</td>\n",
       "      <td>0</td>\n",
       "      <td>0</td>\n",
       "      <td>1</td>\n",
       "      <td>0</td>\n",
       "      <td>1</td>\n",
       "      <td>0</td>\n",
       "    </tr>\n",
       "    <tr>\n",
       "      <th>3</th>\n",
       "      <td>895</td>\n",
       "      <td>3</td>\n",
       "      <td>895</td>\n",
       "      <td>0</td>\n",
       "      <td>0</td>\n",
       "      <td>0</td>\n",
       "      <td>1</td>\n",
       "      <td>0</td>\n",
       "      <td>0</td>\n",
       "      <td>1</td>\n",
       "    </tr>\n",
       "    <tr>\n",
       "      <th>4</th>\n",
       "      <td>896</td>\n",
       "      <td>3</td>\n",
       "      <td>896</td>\n",
       "      <td>1</td>\n",
       "      <td>1</td>\n",
       "      <td>1</td>\n",
       "      <td>0</td>\n",
       "      <td>0</td>\n",
       "      <td>0</td>\n",
       "      <td>1</td>\n",
       "    </tr>\n",
       "  </tbody>\n",
       "</table>\n",
       "</div>"
      ],
      "text/plain": [
       "   PassengerId  Pclass  Age  SibSp  Parch  female  male  C  Q  S\n",
       "0          892       3  892      0      0       0     1  0  1  0\n",
       "1          893       3  893      1      0       1     0  0  0  1\n",
       "2          894       2  894      0      0       0     1  0  1  0\n",
       "3          895       3  895      0      0       0     1  0  0  1\n",
       "4          896       3  896      1      1       1     0  0  0  1"
      ]
     },
     "execution_count": 37,
     "metadata": {},
     "output_type": "execute_result"
    }
   ],
   "source": [
    "test.head()"
   ]
  },
  {
   "cell_type": "code",
   "execution_count": 38,
   "id": "clinical-ivory",
   "metadata": {
    "execution": {
     "iopub.execute_input": "2021-04-05T12:52:14.972465Z",
     "iopub.status.busy": "2021-04-05T12:52:14.969159Z",
     "iopub.status.idle": "2021-04-05T12:52:14.977427Z",
     "shell.execute_reply": "2021-04-05T12:52:14.976849Z"
    },
    "papermill": {
     "duration": 0.07077,
     "end_time": "2021-04-05T12:52:14.977576",
     "exception": false,
     "start_time": "2021-04-05T12:52:14.906806",
     "status": "completed"
    },
    "tags": []
   },
   "outputs": [
    {
     "data": {
      "text/plain": [
       "array([0, 1, 0, 0, 1, 0, 1, 0, 1, 0, 0, 0, 1, 0, 1, 1, 0, 0, 1, 1, 0, 0,\n",
       "       1, 0, 1, 0, 1, 0, 0, 0, 0, 0, 1, 1, 0, 0, 1, 1, 0, 0, 0, 0, 0, 1,\n",
       "       1, 0, 0, 0, 1, 1, 0, 0, 1, 1, 0, 0, 0, 0, 0, 1, 0, 0, 0, 1, 0, 1,\n",
       "       1, 0, 0, 1, 1, 0, 1, 0, 1, 0, 0, 1, 0, 1, 0, 0, 0, 0, 0, 0, 1, 1,\n",
       "       1, 0, 1, 0, 1, 0, 0, 0, 1, 0, 1, 0, 1, 0, 0, 0, 1, 0, 0, 0, 0, 0,\n",
       "       0, 1, 1, 1, 1, 0, 0, 1, 0, 1, 1, 0, 1, 0, 0, 1, 0, 1, 0, 0, 0, 0,\n",
       "       1, 0, 0, 0, 0, 0, 1, 0, 0, 1, 0, 0, 0, 0, 0, 0, 0, 0, 1, 0, 0, 1,\n",
       "       0, 0, 1, 1, 0, 1, 1, 0, 1, 0, 0, 1, 0, 0, 1, 1, 0, 0, 0, 0, 0, 1,\n",
       "       1, 0, 1, 1, 0, 0, 1, 0, 1, 0, 1, 0, 0, 0, 0, 0, 0, 0, 0, 0, 0, 1,\n",
       "       0, 1, 1, 0, 0, 1, 0, 0, 1, 0, 1, 0, 0, 0, 0, 1, 0, 0, 1, 0, 1, 0,\n",
       "       1, 0, 1, 0, 1, 1, 0, 1, 0, 0, 0, 1, 0, 0, 0, 0, 0, 0, 1, 1, 1, 1,\n",
       "       0, 0, 0, 0, 1, 0, 1, 1, 1, 0, 0, 0, 0, 0, 0, 0, 1, 0, 0, 0, 1, 1,\n",
       "       0, 0, 0, 0, 1, 0, 0, 0, 1, 1, 0, 1, 0, 0, 0, 0, 1, 0, 1, 1, 1, 0,\n",
       "       0, 0, 0, 0, 0, 1, 0, 0, 0, 0, 1, 0, 0, 0, 0, 0, 0, 0, 1, 1, 0, 0,\n",
       "       0, 1, 0, 0, 0, 1, 1, 1, 0, 0, 0, 0, 0, 0, 0, 0, 1, 0, 1, 0, 0, 0,\n",
       "       1, 0, 0, 1, 0, 0, 0, 0, 0, 0, 0, 0, 0, 1, 0, 1, 0, 1, 0, 1, 1, 0,\n",
       "       0, 0, 1, 0, 1, 0, 0, 1, 0, 1, 1, 0, 1, 1, 0, 1, 1, 0, 0, 1, 0, 0,\n",
       "       1, 1, 1, 0, 0, 0, 0, 0, 1, 1, 0, 1, 0, 0, 0, 0, 0, 1, 0, 0, 0, 1,\n",
       "       0, 1, 0, 0, 1, 0, 1, 0, 0, 0, 0, 0, 1, 1, 1, 1, 1, 0, 1, 0, 0, 0])"
      ]
     },
     "execution_count": 38,
     "metadata": {},
     "output_type": "execute_result"
    }
   ],
   "source": [
    "final=classifier.predict(test)\n",
    "final"
   ]
  },
  {
   "cell_type": "code",
   "execution_count": 39,
   "id": "younger-slovak",
   "metadata": {
    "execution": {
     "iopub.execute_input": "2021-04-05T12:52:15.104415Z",
     "iopub.status.busy": "2021-04-05T12:52:15.103725Z",
     "iopub.status.idle": "2021-04-05T12:52:15.108250Z",
     "shell.execute_reply": "2021-04-05T12:52:15.107429Z"
    },
    "papermill": {
     "duration": 0.074361,
     "end_time": "2021-04-05T12:52:15.108424",
     "exception": false,
     "start_time": "2021-04-05T12:52:15.034063",
     "status": "completed"
    },
    "tags": []
   },
   "outputs": [
    {
     "data": {
      "text/html": [
       "<div>\n",
       "<style scoped>\n",
       "    .dataframe tbody tr th:only-of-type {\n",
       "        vertical-align: middle;\n",
       "    }\n",
       "\n",
       "    .dataframe tbody tr th {\n",
       "        vertical-align: top;\n",
       "    }\n",
       "\n",
       "    .dataframe thead th {\n",
       "        text-align: right;\n",
       "    }\n",
       "</style>\n",
       "<table border=\"1\" class=\"dataframe\">\n",
       "  <thead>\n",
       "    <tr style=\"text-align: right;\">\n",
       "      <th></th>\n",
       "      <th>PassengerId</th>\n",
       "      <th>Survived</th>\n",
       "    </tr>\n",
       "  </thead>\n",
       "  <tbody>\n",
       "    <tr>\n",
       "      <th>0</th>\n",
       "      <td>892</td>\n",
       "      <td>0</td>\n",
       "    </tr>\n",
       "    <tr>\n",
       "      <th>1</th>\n",
       "      <td>893</td>\n",
       "      <td>1</td>\n",
       "    </tr>\n",
       "    <tr>\n",
       "      <th>2</th>\n",
       "      <td>894</td>\n",
       "      <td>0</td>\n",
       "    </tr>\n",
       "    <tr>\n",
       "      <th>3</th>\n",
       "      <td>895</td>\n",
       "      <td>0</td>\n",
       "    </tr>\n",
       "    <tr>\n",
       "      <th>4</th>\n",
       "      <td>896</td>\n",
       "      <td>1</td>\n",
       "    </tr>\n",
       "  </tbody>\n",
       "</table>\n",
       "</div>"
      ],
      "text/plain": [
       "   PassengerId  Survived\n",
       "0          892         0\n",
       "1          893         1\n",
       "2          894         0\n",
       "3          895         0\n",
       "4          896         1"
      ]
     },
     "execution_count": 39,
     "metadata": {},
     "output_type": "execute_result"
    }
   ],
   "source": [
    "test['Survived'] = final\n",
    "test.drop(['Pclass','Age','SibSp','Parch','female','male','C','Q','S'],inplace=True,axis=1)\n",
    "test.head()"
   ]
  },
  {
   "cell_type": "code",
   "execution_count": 40,
   "id": "defined-calendar",
   "metadata": {
    "execution": {
     "iopub.execute_input": "2021-04-05T12:52:15.246208Z",
     "iopub.status.busy": "2021-04-05T12:52:15.245489Z",
     "iopub.status.idle": "2021-04-05T12:52:15.250857Z",
     "shell.execute_reply": "2021-04-05T12:52:15.250173Z"
    },
    "papermill": {
     "duration": 0.078167,
     "end_time": "2021-04-05T12:52:15.251015",
     "exception": false,
     "start_time": "2021-04-05T12:52:15.172848",
     "status": "completed"
    },
    "tags": []
   },
   "outputs": [
    {
     "data": {
      "text/html": [
       "<div>\n",
       "<style scoped>\n",
       "    .dataframe tbody tr th:only-of-type {\n",
       "        vertical-align: middle;\n",
       "    }\n",
       "\n",
       "    .dataframe tbody tr th {\n",
       "        vertical-align: top;\n",
       "    }\n",
       "\n",
       "    .dataframe thead th {\n",
       "        text-align: right;\n",
       "    }\n",
       "</style>\n",
       "<table border=\"1\" class=\"dataframe\">\n",
       "  <thead>\n",
       "    <tr style=\"text-align: right;\">\n",
       "      <th></th>\n",
       "      <th>PassengerId</th>\n",
       "      <th>Survived</th>\n",
       "    </tr>\n",
       "  </thead>\n",
       "  <tbody>\n",
       "    <tr>\n",
       "      <th>0</th>\n",
       "      <td>892</td>\n",
       "      <td>0</td>\n",
       "    </tr>\n",
       "    <tr>\n",
       "      <th>1</th>\n",
       "      <td>893</td>\n",
       "      <td>1</td>\n",
       "    </tr>\n",
       "    <tr>\n",
       "      <th>2</th>\n",
       "      <td>894</td>\n",
       "      <td>0</td>\n",
       "    </tr>\n",
       "    <tr>\n",
       "      <th>3</th>\n",
       "      <td>895</td>\n",
       "      <td>0</td>\n",
       "    </tr>\n",
       "    <tr>\n",
       "      <th>4</th>\n",
       "      <td>896</td>\n",
       "      <td>1</td>\n",
       "    </tr>\n",
       "  </tbody>\n",
       "</table>\n",
       "</div>"
      ],
      "text/plain": [
       "   PassengerId  Survived\n",
       "0          892         0\n",
       "1          893         1\n",
       "2          894         0\n",
       "3          895         0\n",
       "4          896         1"
      ]
     },
     "execution_count": 40,
     "metadata": {},
     "output_type": "execute_result"
    }
   ],
   "source": [
    "submission_analysis = pd.DataFrame(test, columns = ['PassengerId', 'Survived'])\n",
    "submission_analysis.head()"
   ]
  },
  {
   "cell_type": "code",
   "execution_count": 41,
   "id": "weighted-wheat",
   "metadata": {
    "execution": {
     "iopub.execute_input": "2021-04-05T12:52:15.369880Z",
     "iopub.status.busy": "2021-04-05T12:52:15.368974Z",
     "iopub.status.idle": "2021-04-05T12:52:15.377194Z",
     "shell.execute_reply": "2021-04-05T12:52:15.376452Z"
    },
    "papermill": {
     "duration": 0.069053,
     "end_time": "2021-04-05T12:52:15.377359",
     "exception": false,
     "start_time": "2021-04-05T12:52:15.308306",
     "status": "completed"
    },
    "tags": []
   },
   "outputs": [],
   "source": [
    "submission_analysis.to_csv('titanic_data_submission.csv', index=False)"
   ]
  }
 ],
 "metadata": {
  "kernelspec": {
   "display_name": "Python 3",
   "language": "python",
   "name": "python3"
  },
  "language_info": {
   "codemirror_mode": {
    "name": "ipython",
    "version": 3
   },
   "file_extension": ".py",
   "mimetype": "text/x-python",
   "name": "python",
   "nbconvert_exporter": "python",
   "pygments_lexer": "ipython3",
   "version": "3.8.8"
  },
  "papermill": {
   "default_parameters": {},
   "duration": 17.083758,
   "end_time": "2021-04-05T12:52:16.277700",
   "environment_variables": {},
   "exception": null,
   "input_path": "__notebook__.ipynb",
   "output_path": "__notebook__.ipynb",
   "parameters": {},
   "start_time": "2021-04-05T12:51:59.193942",
   "version": "2.3.2"
  }
 },
 "nbformat": 4,
 "nbformat_minor": 5
}
